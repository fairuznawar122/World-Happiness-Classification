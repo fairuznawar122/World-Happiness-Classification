{
  "nbformat": 4,
  "nbformat_minor": 0,
  "metadata": {
    "colab": {
      "provenance": [],
      "authorship_tag": "ABX9TyPxVJZDD51Xl+SmZw+y7W5k",
      "include_colab_link": true
    },
    "kernelspec": {
      "name": "python3",
      "display_name": "Python 3"
    },
    "language_info": {
      "name": "python"
    }
  },
  "cells": [
    {
      "cell_type": "markdown",
      "metadata": {
        "id": "view-in-github",
        "colab_type": "text"
      },
      "source": [
        "<a href=\"https://colab.research.google.com/github/fairuznawar122/World-Happiness-Classification/blob/main/World-Happiness-Classification%3A%20Naive%20Bayes.ipynb\" target=\"_parent\"><img src=\"https://colab.research.google.com/assets/colab-badge.svg\" alt=\"Open In Colab\"/></a>"
      ]
    },
    {
      "cell_type": "code",
      "execution_count": null,
      "metadata": {
        "id": "_oZNhXqUqURE"
      },
      "outputs": [],
      "source": [
        "# import os\n",
        "# import shutil\n",
        "\n",
        "# # Define paths\n",
        "# drive_path = \"/content/drive/My Drive/kaggle.json\"\n",
        "# kaggle_path = \"/root/.kaggle/kaggle.json\"\n",
        "\n",
        "# # Create .kaggle directory if it doesn't exist\n",
        "# os.makedirs(\"/root/.kaggle\", exist_ok=True)\n",
        "\n",
        "# # Copy the kaggle.json file\n",
        "# shutil.copy(drive_path, kaggle_path)\n",
        "\n",
        "# # Set the correct permissions\n",
        "# os.chmod(kaggle_path, 600)\n",
        "import os\n",
        "os.environ['KAGGLE_USERNAME'] = \"fariuznawar\"\n",
        "os.environ['KAGGLE_KEY'] = \"6c2d1b94eb81cb2616870c4ea4764fda\"\n",
        "\n",
        "!kaggle datasets download -d mathurinache/world-happiness-report"
      ]
    },
    {
      "cell_type": "code",
      "source": [
        "import zipfile\n",
        "with zipfile.ZipFile(\"world-happiness-report.zip\", \"r\") as zip_ref:\n",
        "    zip_ref.extractall(\"world-happiness-report\")\n"
      ],
      "metadata": {
        "id": "dTEMze6Eq02c"
      },
      "execution_count": null,
      "outputs": []
    },
    {
      "cell_type": "markdown",
      "source": [
        "### Accessing the Data files\n",
        "\n",
        "\n",
        "\n"
      ],
      "metadata": {
        "id": "YkUEEbonq6FL"
      }
    },
    {
      "cell_type": "code",
      "source": [
        "import pandas as pd\n",
        "df = pd.read_csv(filename)\n",
        "df.head()"
      ],
      "metadata": {
        "id": "qjrrlKanq7t0"
      },
      "execution_count": null,
      "outputs": []
    },
    {
      "cell_type": "markdown",
      "source": [
        "### Data Processing\n"
      ],
      "metadata": {
        "id": "cBPPZinUq_yb"
      }
    },
    {
      "cell_type": "code",
      "source": [
        "if(year==\"2015\"):\n",
        "  df.drop(\"Region\", axis=1, inplace=True)\n",
        "  df.drop(\"Happiness Rank\", axis=1, inplace=True)\n",
        "  df.drop(\"Dystopia Residual\", axis=1, inplace=True)\n",
        "  df.drop(\"Standard Error\", axis=1, inplace=True)\n",
        "  df = df.rename(columns={'Economy (GDP per Capita)': 'Economy'})\n",
        "  df = df.rename(columns={'Trust (Government Corruption)': 'Trust'})\n",
        "  df = df.rename(columns={'Health (Life Expectancy)': 'Health'})\n",
        "\n",
        "if(year==\"2018\"):\n",
        "  df.drop(\"Overall rank\", axis=1, inplace=True)\n",
        "  #rename\n",
        "  df = df.rename(columns={'Score': 'Happiness Score'})\n",
        "  df = df.rename(columns={'Country or region': 'Country'})\n",
        "  df = df.rename(columns={'Healthy life expectancy': 'Health'})\n",
        "  df = df.rename(columns={'Perceptions of corruption': 'Trust'})\n",
        "  df = df.rename(columns={'Freedom to make life choices': 'Freedom'})\n",
        "  df = df.rename(columns={'Social support': 'Social Support'})\n",
        "  df = df.rename(columns={'GDP per capita': 'Economy'})\n",
        "\n",
        "if(year==\"2020\"):\n",
        "  df.drop(\"Regional indicator\", axis=1, inplace=True)\n",
        "  df.drop(\"Standard error of ladder score\", axis=1, inplace=True)\n",
        "  df.drop(\"upperwhisker\", axis=1, inplace=True)\n",
        "  df.drop(\"lowerwhisker\", axis=1, inplace=True)\n",
        "  df.drop(\"Ladder score in Dystopia\", axis=1, inplace=True)\n",
        "  df.drop(\"Dystopia + residual\", axis=1, inplace=True)\n",
        "  df.drop(\"Explained by: Log GDP per capita\", axis=1, inplace=True)\n",
        "  df.drop(\"Explained by: Social support\", axis=1, inplace=True)\n",
        "  df.drop(\"Explained by: Healthy life expectancy\", axis=1, inplace=True)\n",
        "  df.drop(\"Explained by: Freedom to make life choices\", axis=1, inplace=True)\n",
        "  df.drop(\"Explained by: Generosity\", axis=1, inplace=True)\n",
        "  df.drop(\"Explained by: Perceptions of corruption\", axis=1, inplace=True)\n",
        "  #rename\n",
        "  df = df.rename(columns={'Country name': 'Country'})\n",
        "  df = df.rename(columns={'Ladder score': 'Happiness Score'})\n",
        "  df = df.rename(columns={'Healthy life expectancy': 'Health'})\n",
        "  df = df.rename(columns={'Perceptions of corruption': 'Trust'})\n",
        "  df = df.rename(columns={'Freedom to make life choices': 'Freedom'})\n",
        "  df = df.rename(columns={'Social support': 'Social Support'})\n",
        "  df = df.rename(columns={'Logged GDP per capita': 'Economy'})\n",
        "\n",
        "if(year==\"2022\"):\n",
        "  df.drop(\"RANK\", axis=1, inplace=True)\n",
        "  df.drop(\"Whisker-high\", axis=1, inplace=True)\n",
        "  df.drop(\"Whisker-low\", axis=1, inplace=True)\n",
        "  df.drop(\"Dystopia (1.83) + residual\", axis=1, inplace=True)\n",
        "  #rename\n",
        "  df = df.rename(columns={'Explained by: GDP per capita': 'Economy'})\n",
        "  df = df.rename(columns={'Explained by: Social support': 'Social Support'})\n",
        "  df = df.rename(columns={'Explained by: Healthy life expectancy': 'Health'})\n",
        "  df = df.rename(columns={'Explained by: Freedom to make life choices': 'Freedom'})\n",
        "  df = df.rename(columns={'Explained by: Generosity': 'Generosity'})\n",
        "  df = df.rename(columns={'Explained by: Perceptions of corruption': 'Trust'})\n",
        "  df = df.rename(columns={'Happiness score': 'Happiness Score'})\n",
        "\n",
        "  # To fix the numerical values in the data\n",
        "  for column in df.select_dtypes(include=['object']).columns:\n",
        "    df[column] = df[column].str.replace(',', '.')\n",
        "\n",
        "  # Convert all columns to numeric (excluding non-numeric columns like country names)\n",
        "  for column in df.select_dtypes(include=['object']).columns:\n",
        "    try:\n",
        "        df[column] = pd.to_numeric(df[column])\n",
        "    except ValueError:\n",
        "        # Handle the case if a column can't be converted (keep it as is)\n",
        "        pass\n",
        "  df = df[:-1]\n",
        "\n",
        "df"
      ],
      "metadata": {
        "id": "C5prXIwjq9cj"
      },
      "execution_count": null,
      "outputs": []
    },
    {
      "cell_type": "code",
      "source": [
        "possible_column_names = ['Country', 'Country or region', 'Country name']"
      ],
      "metadata": {
        "id": "01uGK4MjrKQ0"
      },
      "execution_count": null,
      "outputs": []
    },
    {
      "cell_type": "code",
      "source": [
        "# Function to check, extract and delete the column\n",
        "def extract_and_delete_column(df, possible_column_names):\n",
        "    for name in possible_column_names:\n",
        "        if name in df.columns:\n",
        "            extracted_column = df[name]  # Extract column\n",
        "            df.drop(name, axis=1, inplace=True)  # Delete the column from df\n",
        "            print(f\"✅ Column '{name}' extracted and deleted from df.\")\n",
        "            return extracted_column\n",
        "    print(f\"⚠️ Column not found from: {possible_column_names}\")\n",
        "    return None\n",
        "\n",
        "final_df = extract_and_delete_column(df, possible_column_names)\n",
        "final_df = pd.DataFrame(final_df)\n",
        "\n",
        "split_size = len(final_df) // 3\n",
        "categories = ['Strong Happy'] * split_size + ['Moderate Happy'] * split_size + ['Weak Happy'] * (len(final_df) - 2 * split_size)\n",
        "final_df['Category'] = categories\n",
        "\n",
        "final_df\n"
      ],
      "metadata": {
        "id": "ojDQah4GrMRM"
      },
      "execution_count": null,
      "outputs": []
    },
    {
      "cell_type": "code",
      "source": [
        "final_df.drop(final_df.columns[0], axis=1, inplace=True)\n",
        "df= pd.concat([df, final_df], axis=1)\n",
        "df"
      ],
      "metadata": {
        "id": "JwkxTCKYrOIs"
      },
      "execution_count": null,
      "outputs": []
    },
    {
      "cell_type": "markdown",
      "source": [
        "### Categorizing the features : Using Decision Tree\n",
        "\n"
      ],
      "metadata": {
        "id": "BkkCXlZArS30"
      }
    },
    {
      "cell_type": "code",
      "source": [
        "from sklearn.tree import DecisionTreeRegressor\n",
        "import numpy as np\n",
        "\n",
        "X = df[['Health', 'Freedom','Trust', 'Generosity']]  # Features that influence Economy\n",
        "y = df['Economy']  # Economy is the target\n",
        "\n",
        "tree_reg = DecisionTreeRegressor(max_depth=3, random_state=42)\n",
        "tree_reg.fit(X, y)\n",
        "# Extract unique thresholds from Decision Tree\n",
        "thresholds = np.sort(tree_reg.tree_.threshold[tree_reg.tree_.threshold > 0])  # Remove unused splits\n",
        "\n",
        "# **Pick only two meaningful thresholds** (1/3 and 2/3 positions)\n",
        "if len(thresholds) >= 2:\n",
        "    thresholds = [thresholds[len(thresholds) // 3], thresholds[2 * len(thresholds) // 3]]\n",
        "else:\n",
        "    print(\"Not enough splits from Decision Tree, using quantiles instead.\")\n",
        "    thresholds = list(df['Economy'].quantile([1/3, 2/3]))  # Fallback to quantiles\n",
        "\n",
        "# Define bin edges and labels\n",
        "bin_edges = [-np.inf] + list(thresholds) + [np.inf]\n",
        "bin_labels = ['Low', 'Moderate', 'High']\n",
        "\n",
        "# Categorize Economy into bins\n",
        "df['Economy'] = pd.cut(df['Economy'], bins=bin_edges, labels=bin_labels)\n",
        "df"
      ],
      "metadata": {
        "id": "Z0K2cInarP_c"
      },
      "execution_count": null,
      "outputs": []
    },
    {
      "cell_type": "markdown",
      "source": [
        "### Categorizing the other features : Custom Bin ranges\n",
        "\n",
        "\n"
      ],
      "metadata": {
        "id": "fR_W3BezrXYM"
      }
    },
    {
      "cell_type": "code",
      "source": [
        "# Number of bins/Categories you want\n",
        "n_bins = 3\n",
        "category_labels = ['Low', 'Medium', 'High']\n",
        "# Create equal-width bins for each column\n",
        "for column in df.columns:\n",
        "    if column==\"Economy\" or column==\"Category\":\n",
        "      continue\n",
        "    min_val = df[column].min()- 1e-3  # Minimum value\n",
        "    max_val = df[column].max()  # Maximum value\n",
        "    bins = [min_val, min_val + (max_val - min_val) / 3, min_val + 2 * (max_val - min_val) / 3, max_val]\n",
        "    df[column] = pd.cut(df[column], bins=bins, labels=category_labels)\n",
        "\n",
        "df"
      ],
      "metadata": {
        "id": "Eyp9a20QrVZU"
      },
      "execution_count": null,
      "outputs": []
    },
    {
      "cell_type": "markdown",
      "source": [
        "### User Input Columns"
      ],
      "metadata": {
        "id": "pD6psvEjq-57"
      }
    },
    {
      "cell_type": "code",
      "source": [
        "import pandas as pd\n",
        "import ipywidgets as widgets\n",
        "from IPython.display import display\n",
        "\n",
        "df.drop(\"Category\", axis=1, inplace=True)\n",
        "\n",
        "selected_df = pd.DataFrame()\n",
        "# Create multi-select widget for column selection\n",
        "column_selector = widgets.SelectMultiple(\n",
        "    options=df.columns,\n",
        "    value=[df.columns[0]],  # Default selection\n",
        "    description='Select Columns:',\n",
        "    style={'description_width': 'initial'},  # Adjust description width\n",
        "    layout=widgets.Layout(\n",
        "        width='70%',  # Set width\n",
        "        height='auto',  # Set height\n",
        "        border='2px solid black',  # Border style\n",
        "        padding='10px',  # Padding inside box\n",
        "        margin='20px auto',  # Margin around box\n",
        "    )\n",
        ")\n",
        "\n",
        "# Output widget to display the selected columns\n",
        "output = widgets.Output()\n",
        "\n",
        "def show_selected_columns(change):\n",
        "    with output:\n",
        "        output.clear_output()  # Clear previous output\n",
        "        selected_columns = list(column_selector.value)  # Get selected columns\n",
        "\n",
        "        if selected_columns:\n",
        "            print()\n",
        "            display(df[selected_columns].head())  # Show first 5 rows\n",
        "        else:\n",
        "            print(\"⚠️ No columns selected!\")\n",
        "\n",
        "# Attach the function to update on selection\n",
        "column_selector.observe(show_selected_columns, names='value')\n",
        "\n",
        "# Button to save the selected columns\n",
        "\n",
        "def save_selected_columns(b):\n",
        "    selected_columns = list(column_selector.value)\n",
        "\n",
        "    if not selected_columns:\n",
        "        print(\"⚠️ Please select at least one column!\")\n",
        "        return\n",
        "    global selected_df\n",
        "    # selected_df = pd.concat([df[selected_columns],selected_df], axis=1)\n",
        "    selected_df = df[selected_columns]\n",
        "    # print()\n",
        "    # print()\n",
        "    # print(selected_df.head())\n",
        "    print(\"✅ Saved selected columns to \\\"selected_df\\\" dataframe!\")\n",
        "\n",
        "\n",
        "\n",
        "\n",
        "save_button = widgets.Button(\n",
        "    description=\"💾 Save Selected Columns\",\n",
        "    button_style=\"info\",  # 'success' = Green, 'info' = Blue, 'warning' = Orange, 'danger' = Red\n",
        "    tooltip=\"Click to save selected columns\",\n",
        "    icon=\"check\",  # Adds a checkmark icon\n",
        "    layout=widgets.Layout(width='250px', height='40px'),  # Adjust button size\n",
        "    margin='20px auto',  # Margin around box\n",
        ")\n",
        "print()\n",
        "# save_button = widgets.Button(description=\"Confirm Selection\")\n",
        "save_button.on_click(save_selected_columns)\n",
        "print()\n",
        "print()\n",
        "# Display everything\n",
        "display(column_selector, output, save_button)\n"
      ],
      "metadata": {
        "id": "R2LDxwLzrlGc"
      },
      "execution_count": null,
      "outputs": []
    },
    {
      "cell_type": "code",
      "source": [
        "selected_df"
      ],
      "metadata": {
        "id": "WWsIjKMtrmwk"
      },
      "execution_count": null,
      "outputs": []
    },
    {
      "cell_type": "code",
      "source": [
        "df=selected_df\n",
        "df= pd.concat([df, final_df], axis=1)\n",
        "df"
      ],
      "metadata": {
        "id": "70LYk4iyro5U"
      },
      "execution_count": null,
      "outputs": []
    },
    {
      "cell_type": "markdown",
      "source": [
        "### Naive Bayes Classifier"
      ],
      "metadata": {
        "id": "POEBdAJrrtO0"
      }
    },
    {
      "cell_type": "code",
      "source": [],
      "metadata": {
        "id": "mBClEznErqkk"
      },
      "execution_count": null,
      "outputs": []
    },
    {
      "cell_type": "code",
      "source": [],
      "metadata": {
        "id": "kGkNcDkBr06V"
      },
      "execution_count": null,
      "outputs": []
    }
  ]
}