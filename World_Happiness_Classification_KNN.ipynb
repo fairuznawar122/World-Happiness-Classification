{
  "nbformat": 4,
  "nbformat_minor": 0,
  "metadata": {
    "colab": {
      "provenance": [],
      "include_colab_link": true
    },
    "kernelspec": {
      "name": "python3",
      "display_name": "Python 3"
    },
    "language_info": {
      "name": "python"
    }
  },
  "cells": [
    {
      "cell_type": "markdown",
      "metadata": {
        "id": "view-in-github",
        "colab_type": "text"
      },
      "source": [
        "<a href=\"https://colab.research.google.com/github/fairuznawar122/World-Happiness-Classification/blob/main/World_Happiness_Classification_KNN.ipynb\" target=\"_parent\"><img src=\"https://colab.research.google.com/assets/colab-badge.svg\" alt=\"Open In Colab\"/></a>"
      ]
    },
    {
      "cell_type": "code",
      "execution_count": null,
      "metadata": {
        "id": "x6hrTxrNSwS1"
      },
      "outputs": [],
      "source": [
        "# import os\n",
        "# import shutil\n",
        "\n",
        "# # Define paths\n",
        "# drive_path = \"/content/drive/My Drive/kaggle.json\"\n",
        "# kaggle_path = \"/root/.kaggle/kaggle.json\"\n",
        "\n",
        "# # Create .kaggle directory if it doesn't exist\n",
        "# os.makedirs(\"/root/.kaggle\", exist_ok=True)\n",
        "\n",
        "# # Copy the kaggle.json file\n",
        "# shutil.copy(drive_path, kaggle_path)\n",
        "\n",
        "# # Set the correct permissions\n",
        "# os.chmod(kaggle_path, 600)\n",
        "import os\n",
        "os.environ['KAGGLE_USERNAME'] = \"fariuznawar\"\n",
        "os.environ['KAGGLE_KEY'] = \"6c2d1b94eb81cb2616870c4ea4764fda\"\n",
        "\n",
        "!kaggle datasets download -d mathurinache/world-happiness-report"
      ]
    },
    {
      "cell_type": "code",
      "source": [
        "import zipfile\n",
        "with zipfile.ZipFile(\"world-happiness-report.zip\", \"r\") as zip_ref:\n",
        "    zip_ref.extractall(\"world-happiness-report\")\n"
      ],
      "metadata": {
        "id": "BbRxNTzIqagY"
      },
      "execution_count": null,
      "outputs": []
    },
    {
      "cell_type": "markdown",
      "source": [
        "### Accessing the Data files"
      ],
      "metadata": {
        "id": "K4tLbm9kqd9H"
      }
    },
    {
      "cell_type": "code",
      "source": [
        "year = input(\"Enter the Year: \")\n",
        "filename = \"world-happiness-report/\" + year + \".csv\""
      ],
      "metadata": {
        "id": "5VOxJqI8qeq_"
      },
      "execution_count": null,
      "outputs": []
    },
    {
      "cell_type": "code",
      "source": [
        "import pandas as pd\n",
        "df = pd.read_csv(filename)\n",
        "df.head()"
      ],
      "metadata": {
        "id": "yOgX8Uiaqh1_"
      },
      "execution_count": null,
      "outputs": []
    },
    {
      "cell_type": "markdown",
      "source": [
        "### Data Processing"
      ],
      "metadata": {
        "id": "Ehxznna9qlRX"
      }
    },
    {
      "cell_type": "code",
      "source": [
        "if(year==\"2015\"):\n",
        "  df.drop(\"Region\", axis=1, inplace=True)\n",
        "  df.drop(\"Happiness Rank\", axis=1, inplace=True)\n",
        "  df.drop(\"Dystopia Residual\", axis=1, inplace=True)\n",
        "  df.drop(\"Standard Error\", axis=1, inplace=True)\n",
        "  df = df.rename(columns={'Economy (GDP per Capita)': 'Economy'})\n",
        "  df = df.rename(columns={'Trust (Government Corruption)': 'Trust'})\n",
        "  df = df.rename(columns={'Health (Life Expectancy)': 'Health'})\n",
        "\n",
        "if(year==\"2018\"):\n",
        "  df.drop(\"Overall rank\", axis=1, inplace=True)\n",
        "  #rename\n",
        "  df = df.rename(columns={'Score': 'Happiness Score'})\n",
        "  df = df.rename(columns={'Country or region': 'Country'})\n",
        "  df = df.rename(columns={'Healthy life expectancy': 'Health'})\n",
        "  df = df.rename(columns={'Perceptions of corruption': 'Trust'})\n",
        "  df = df.rename(columns={'Freedom to make life choices': 'Freedom'})\n",
        "  df = df.rename(columns={'Social support': 'Social Support'})\n",
        "  df = df.rename(columns={'GDP per capita': 'Economy'})\n",
        "\n",
        "if(year==\"2020\"):\n",
        "  df.drop(\"Regional indicator\", axis=1, inplace=True)\n",
        "  df.drop(\"Standard error of ladder score\", axis=1, inplace=True)\n",
        "  df.drop(\"upperwhisker\", axis=1, inplace=True)\n",
        "  df.drop(\"lowerwhisker\", axis=1, inplace=True)\n",
        "  df.drop(\"Ladder score in Dystopia\", axis=1, inplace=True)\n",
        "  df.drop(\"Dystopia + residual\", axis=1, inplace=True)\n",
        "  df.drop(\"Explained by: Log GDP per capita\", axis=1, inplace=True)\n",
        "  df.drop(\"Explained by: Social support\", axis=1, inplace=True)\n",
        "  df.drop(\"Explained by: Healthy life expectancy\", axis=1, inplace=True)\n",
        "  df.drop(\"Explained by: Freedom to make life choices\", axis=1, inplace=True)\n",
        "  df.drop(\"Explained by: Generosity\", axis=1, inplace=True)\n",
        "  df.drop(\"Explained by: Perceptions of corruption\", axis=1, inplace=True)\n",
        "  #rename\n",
        "  df = df.rename(columns={'Country name': 'Country'})\n",
        "  df = df.rename(columns={'Ladder score': 'Happiness Score'})\n",
        "  df = df.rename(columns={'Healthy life expectancy': 'Health'})\n",
        "  df = df.rename(columns={'Perceptions of corruption': 'Trust'})\n",
        "  df = df.rename(columns={'Freedom to make life choices': 'Freedom'})\n",
        "  df = df.rename(columns={'Social support': 'Social Support'})\n",
        "  df = df.rename(columns={'Logged GDP per capita': 'Economy'})\n",
        "\n",
        "if(year==\"2022\"):\n",
        "  df.drop(\"RANK\", axis=1, inplace=True)\n",
        "  df.drop(\"Whisker-high\", axis=1, inplace=True)\n",
        "  df.drop(\"Whisker-low\", axis=1, inplace=True)\n",
        "  df.drop(\"Dystopia (1.83) + residual\", axis=1, inplace=True)\n",
        "  #rename\n",
        "  df = df.rename(columns={'Explained by: GDP per capita': 'Economy'})\n",
        "  df = df.rename(columns={'Explained by: Social support': 'Social Support'})\n",
        "  df = df.rename(columns={'Explained by: Healthy life expectancy': 'Health'})\n",
        "  df = df.rename(columns={'Explained by: Freedom to make life choices': 'Freedom'})\n",
        "  df = df.rename(columns={'Explained by: Generosity': 'Generosity'})\n",
        "  df = df.rename(columns={'Explained by: Perceptions of corruption': 'Trust'})\n",
        "  df = df.rename(columns={'Happiness score': 'Happiness Score'})\n",
        "\n",
        "  # To fix the numerical values in the data\n",
        "  for column in df.select_dtypes(include=['object']).columns:\n",
        "    df[column] = df[column].str.replace(',', '.')\n",
        "\n",
        "  # Convert all columns to numeric (excluding non-numeric columns like country names)\n",
        "  for column in df.select_dtypes(include=['object']).columns:\n",
        "    try:\n",
        "        df[column] = pd.to_numeric(df[column])\n",
        "    except ValueError:\n",
        "        # Handle the case if a column can't be converted (keep it as is)\n",
        "        pass\n",
        "  df = df[:-1]\n",
        "\n",
        "df"
      ],
      "metadata": {
        "id": "J9H94sCyqiSX"
      },
      "execution_count": null,
      "outputs": []
    },
    {
      "cell_type": "code",
      "source": [
        "possible_column_names = ['Country', 'Country or region', 'Country name']"
      ],
      "metadata": {
        "id": "SLB-Jb0mGmQe"
      },
      "execution_count": null,
      "outputs": []
    },
    {
      "cell_type": "code",
      "source": [
        "# Function to check, extract and delete the column\n",
        "def extract_and_delete_column(df, possible_column_names):\n",
        "    for name in possible_column_names:\n",
        "        if name in df.columns:\n",
        "            extracted_column = df[name]  # Extract column\n",
        "            df.drop(name, axis=1, inplace=True)  # Delete the column from df\n",
        "            print(f\"✅ Column '{name}' extracted and deleted from df.\")\n",
        "            return extracted_column\n",
        "    print(f\"⚠️ Column not found from: {possible_column_names}\")\n",
        "    return None\n",
        "\n",
        "final_df = extract_and_delete_column(df, possible_column_names)\n",
        "final_df = pd.DataFrame(final_df)\n",
        "\n",
        "split_size = len(final_df) // 3\n",
        "categories = ['Strong Happy'] * split_size + ['Moderate Happy'] * split_size + ['Weak Happy'] * (len(final_df) - 2 * split_size)\n",
        "final_df['Category'] = categories\n",
        "\n",
        "final_df\n"
      ],
      "metadata": {
        "id": "iJftOWkmGn-F"
      },
      "execution_count": null,
      "outputs": []
    }
  ]
}