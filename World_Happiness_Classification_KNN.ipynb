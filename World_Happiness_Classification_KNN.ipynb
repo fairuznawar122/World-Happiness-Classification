{
  "nbformat": 4,
  "nbformat_minor": 0,
  "metadata": {
    "colab": {
      "provenance": [],
      "include_colab_link": true
    },
    "kernelspec": {
      "name": "python3",
      "display_name": "Python 3"
    },
    "language_info": {
      "name": "python"
    }
  },
  "cells": [
    {
      "cell_type": "markdown",
      "metadata": {
        "id": "view-in-github",
        "colab_type": "text"
      },
      "source": [
        "<a href=\"https://colab.research.google.com/github/fairuznawar122/World-Happiness-Classification/blob/main/World_Happiness_Classification_KNN.ipynb\" target=\"_parent\"><img src=\"https://colab.research.google.com/assets/colab-badge.svg\" alt=\"Open In Colab\"/></a>"
      ]
    },
    {
      "cell_type": "code",
      "execution_count": null,
      "metadata": {
        "id": "x6hrTxrNSwS1"
      },
      "outputs": [],
      "source": [
        "# import os\n",
        "# import shutil\n",
        "\n",
        "# # Define paths\n",
        "# drive_path = \"/content/drive/My Drive/kaggle.json\"\n",
        "# kaggle_path = \"/root/.kaggle/kaggle.json\"\n",
        "\n",
        "# # Create .kaggle directory if it doesn't exist\n",
        "# os.makedirs(\"/root/.kaggle\", exist_ok=True)\n",
        "\n",
        "# # Copy the kaggle.json file\n",
        "# shutil.copy(drive_path, kaggle_path)\n",
        "\n",
        "# # Set the correct permissions\n",
        "# os.chmod(kaggle_path, 600)\n",
        "import os\n",
        "os.environ['KAGGLE_USERNAME'] = \"fariuznawar\"\n",
        "os.environ['KAGGLE_KEY'] = \"6c2d1b94eb81cb2616870c4ea4764fda\"\n",
        "\n",
        "!kaggle datasets download -d mathurinache/world-happiness-report"
      ]
    },
    {
      "cell_type": "code",
      "source": [
        "import zipfile\n",
        "with zipfile.ZipFile(\"world-happiness-report.zip\", \"r\") as zip_ref:\n",
        "    zip_ref.extractall(\"world-happiness-report\")\n"
      ],
      "metadata": {
        "id": "BbRxNTzIqagY"
      },
      "execution_count": null,
      "outputs": []
    },
    {
      "cell_type": "markdown",
      "source": [
        "### Accessing the Data files"
      ],
      "metadata": {
        "id": "K4tLbm9kqd9H"
      }
    },
    {
      "cell_type": "code",
      "source": [
        "year = input(\"Enter the Year: \")\n",
        "filename = \"world-happiness-report/\" + year + \".csv\""
      ],
      "metadata": {
        "id": "5VOxJqI8qeq_"
      },
      "execution_count": null,
      "outputs": []
    },
    {
      "cell_type": "code",
      "source": [
        "import pandas as pd\n",
        "df = pd.read_csv(filename)\n",
        "df.head()"
      ],
      "metadata": {
        "id": "yOgX8Uiaqh1_"
      },
      "execution_count": null,
      "outputs": []
    },
    {
      "cell_type": "markdown",
      "source": [
        "### Data Processing"
      ],
      "metadata": {
        "id": "Ehxznna9qlRX"
      }
    },
    {
      "cell_type": "code",
      "source": [],
      "metadata": {
        "id": "J9H94sCyqiSX"
      },
      "execution_count": null,
      "outputs": []
    }
  ]
}